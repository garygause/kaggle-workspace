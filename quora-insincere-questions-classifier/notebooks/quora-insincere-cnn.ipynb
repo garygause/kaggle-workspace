{
 "cells": [
  {
   "cell_type": "code",
   "execution_count": 1,
   "metadata": {
    "_cell_guid": "79c7e3d0-c299-4dcb-8224-4455121ee9b0",
    "_uuid": "d629ff2d2480ee46fbb7e2d37f6b5fab8052498a"
   },
   "outputs": [],
   "source": [
    "# https://www.kaggle.com/mlwhiz/learning-text-classification-textcnn\n",
    "# Based on text classification tutorial kernel above\n",
    "# Used as baseline for further enhancement"
   ]
  },
  {
   "cell_type": "code",
   "execution_count": 2,
   "metadata": {
    "_uuid": "28e1e71cc4faf944cfeac83d449425dbbf0261a0"
   },
   "outputs": [
    {
     "name": "stderr",
     "output_type": "stream",
     "text": [
      "Using TensorFlow backend.\n"
     ]
    }
   ],
   "source": [
    "# Some imports, we are not gong to use all the imports in this workbook but in subsequent workbooks we surely will.\n",
    "import os\n",
    "import time\n",
    "import numpy as np # linear algebra\n",
    "import pandas as pd # data processing, CSV file I/O (e.g. pd.read_csv)\n",
    "from tqdm import tqdm\n",
    "import math\n",
    "from sklearn.model_selection import train_test_split\n",
    "from sklearn import metrics\n",
    "\n",
    "from keras.preprocessing.text import Tokenizer\n",
    "from keras.preprocessing.sequence import pad_sequences\n",
    "from keras.layers import Dense, Input, CuDNNLSTM, Embedding, Dropout, Activation, CuDNNGRU, Conv1D\n",
    "from keras.layers import Bidirectional, GlobalMaxPool1D, GlobalMaxPooling1D, GlobalAveragePooling1D\n",
    "from keras.layers import Input, Embedding, Dense, Conv2D, MaxPool2D, concatenate\n",
    "from keras.layers import Reshape, Flatten, Concatenate, Dropout, SpatialDropout1D\n",
    "from keras.optimizers import Adam\n",
    "from keras.models import Model\n",
    "from keras import backend as K\n",
    "from keras.engine.topology import Layer\n",
    "from keras import initializers, regularizers, constraints, optimizers, layers\n",
    "\n",
    "\n",
    "from keras.layers import *\n",
    "from keras.models import *\n",
    "from keras import initializers, regularizers, constraints, optimizers, layers\n",
    "from keras.initializers import *\n",
    "from keras.optimizers import *\n",
    "import keras.backend as K\n",
    "from keras.callbacks import *\n",
    "import tensorflow as tf\n",
    "import os\n",
    "import time\n",
    "import gc\n",
    "import re\n",
    "import glob"
   ]
  },
  {
   "cell_type": "code",
   "execution_count": 3,
   "metadata": {
    "_uuid": "08bac6a132c34a10e7e2dcf6a85030aa61a5b04f"
   },
   "outputs": [],
   "source": [
    "# Define some Global Variables\n",
    "max_features = 100000 # Maximum Number of words we want to include in our dictionary\n",
    "maxlen = 72 # No of words in question we want to create a sequence with\n",
    "embed_size = 300# Size of word to vec embedding we are using"
   ]
  },
  {
   "cell_type": "code",
   "execution_count": 5,
   "metadata": {
    "_uuid": "3853e0950eec43c523993effcfada3290aedc873"
   },
   "outputs": [],
   "source": [
    "# Some preprocesssing that will be common to all the text classification methods you will see. \n",
    "puncts = [',', '.', '\"', ':', ')', '(', '-', '!', '?', '|', ';', \"'\", '$', '&', '/', '[', ']', '>', '%', '=', '#', '*', '+', '\\\\', '•',  '~', '@', '£', \n",
    " '·', '_', '{', '}', '©', '^', '®', '`',  '<', '→', '°', '€', '™', '›',  '♥', '←', '×', '§', '″', '′', 'Â', '█', '½', 'à', '…', \n",
    " '“', '★', '”', '–', '●', 'â', '►', '−', '¢', '²', '¬', '░', '¶', '↑', '±', '¿', '▾', '═', '¦', '║', '―', '¥', '▓', '—', '‹', '─', \n",
    " '▒', '：', '¼', '⊕', '▼', '▪', '†', '■', '’', '▀', '¨', '▄', '♫', '☆', 'é', '¯', '♦', '¤', '▲', 'è', '¸', '¾', 'Ã', '⋅', '‘', '∞', \n",
    " '∙', '）', '↓', '、', '│', '（', '»', '，', '♪', '╩', '╚', '³', '・', '╦', '╣', '╔', '╗', '▬', '❤', 'ï', 'Ø', '¹', '≤', '‡', '√', ]\n",
    "def clean_text(x):\n",
    "    x = str(x)\n",
    "    for punct in puncts:\n",
    "        x = x.replace(punct, f' {punct} ')\n",
    "    return x\n",
    "\n",
    "# Loading the data\n",
    "def load_and_prec():\n",
    "    train_df = pd.read_csv(\"../input/train.csv\")\n",
    "    test_df = pd.read_csv(\"../input/test.csv\")\n",
    "    \n",
    "    print(\"Train shape : \",train_df.shape)\n",
    "    print(\"Test shape : \",test_df.shape)\n",
    "    \n",
    "    train_df[\"question_text\"] = train_df[\"question_text\"].apply(lambda x: clean_text(x))\n",
    "    test_df[\"question_text\"] = test_df[\"question_text\"].apply(lambda x: clean_text(x))\n",
    "    \n",
    "    ## split to train and val\n",
    "    train_df, val_df = train_test_split(train_df, test_size=0.08, random_state=2018) # .08 since the datasize is large enough.\n",
    "\n",
    "    ## fill up the missing values\n",
    "    train_X = train_df[\"question_text\"].fillna(\"_##_\").values\n",
    "    val_X = val_df[\"question_text\"].fillna(\"_##_\").values\n",
    "    test_X = test_df[\"question_text\"].fillna(\"_##_\").values\n",
    "\n",
    "    ## Tokenize the sentences\n",
    "    '''\n",
    "    keras.preprocessing.text.Tokenizer tokenizes(splits) the texts into tokens(words).\n",
    "    Signature:\n",
    "    Tokenizer(num_words=None, filters='!\"#$%&()*+,-./:;<=>?@[\\\\]^_`{|}~\\t\\n', \n",
    "    lower=True, split=' ', char_level=False, oov_token=None, document_count=0, **kwargs)\n",
    "\n",
    "    The num_words parameter keeps a prespecified number of words in the text only. \n",
    "    It also filters some non wanted tokens by default and converts the text into lowercase.\n",
    "\n",
    "    It keeps an index of words(dictionary of words which we can use to assign a unique number to a word) \n",
    "    which can be accessed by tokenizer.word_index.\n",
    "    For example - For a text corpus the tokenizer word index might look like. \n",
    "    The words in the indexed dictionary are sort of ranked in order of frequencies,\n",
    "    {'the': 1,'what': 2,'is': 3, 'a': 4, 'to': 5, 'in': 6, 'of': 7, 'i': 8, 'how': 9}\n",
    "    \n",
    "    The texts_to_sequence function converts every word(token) to its respective index in the word_index\n",
    "    \n",
    "    So Lets say we started with \n",
    "    train_X as something like ['This is a sentence','This is another bigger sentence']\n",
    "    and after fitting our tokenizer we get the word_index as {'this':1,'is':2,'sentence':3,'a':4,'another':5,'bigger':6}\n",
    "    The texts_to_sequence function will tokenize the sentences and replace words with individual tokens to give us \n",
    "    train_X = [[1,2,4,3],[1,2,5,6,3]]\n",
    "    '''\n",
    "    tokenizer = Tokenizer(num_words=max_features)\n",
    "    tokenizer.fit_on_texts(list(train_X))\n",
    "    train_X = tokenizer.texts_to_sequences(train_X)\n",
    "    val_X = tokenizer.texts_to_sequences(val_X)\n",
    "    test_X = tokenizer.texts_to_sequences(test_X)\n",
    "\n",
    "    ## Pad the sentences. We need to pad the sequence with 0's to achieve consistent length across examples.\n",
    "    '''\n",
    "    We had train_X = [[1,2,4,3],[1,2,5,6,3]]\n",
    "    lets say maxlen=6\n",
    "        We will then get \n",
    "        train_X = [[1,2,4,3,0,0],[1,2,5,6,3,0]]\n",
    "    '''\n",
    "    train_X = pad_sequences(train_X, maxlen=maxlen)\n",
    "    val_X = pad_sequences(val_X, maxlen=maxlen)\n",
    "    test_X = pad_sequences(test_X, maxlen=maxlen)\n",
    "\n",
    "    ## Get the target values\n",
    "    train_y = train_df['target'].values\n",
    "    val_y = val_df['target'].values  \n",
    "    \n",
    "    #shuffling the data\n",
    "    np.random.seed(2018)\n",
    "    trn_idx = np.random.permutation(len(train_X))\n",
    "    val_idx = np.random.permutation(len(val_X))\n",
    "\n",
    "    train_X = train_X[trn_idx]\n",
    "    val_X = val_X[val_idx]\n",
    "    train_y = train_y[trn_idx]\n",
    "    val_y = val_y[val_idx]    \n",
    "    \n",
    "    return train_X, val_X, test_X, train_y, val_y, tokenizer.word_index"
   ]
  },
  {
   "cell_type": "code",
   "execution_count": 6,
   "metadata": {
    "_uuid": "6397134d73a61d75fbc75b5624d5c24f430cb643"
   },
   "outputs": [
    {
     "name": "stdout",
     "output_type": "stream",
     "text": [
      "Train shape :  (1306122, 3)\n",
      "Test shape :  (56370, 2)\n",
      "CPU times: user 1min 55s, sys: 1.03 s, total: 1min 56s\n",
      "Wall time: 1min 56s\n"
     ]
    }
   ],
   "source": [
    "%%time\n",
    "train_X, val_X, test_X, train_y, val_y, word_index = load_and_prec()"
   ]
  },
  {
   "cell_type": "code",
   "execution_count": 7,
   "metadata": {
    "_uuid": "0f916a810d83a537f11e9d0f3eb2fa49333455e4"
   },
   "outputs": [],
   "source": [
    "# Word 2 vec Embedding\n",
    "\n",
    "def load_glove(word_index):\n",
    "    '''We want to create an embedding matrix in which we keep only the word2vec for words which are in our word_index\n",
    "    '''\n",
    "    EMBEDDING_FILE = '../input/embeddings/glove.840B.300d/glove.840B.300d.txt'\n",
    "    def get_coefs(word,*arr): return word, np.asarray(arr, dtype='float32')\n",
    "    embeddings_index = dict(get_coefs(*o.split(\" \")) for o in open(EMBEDDING_FILE))\n",
    "\n",
    "    all_embs = np.stack(embeddings_index.values())\n",
    "    emb_mean,emb_std = -0.005838499,0.48782197\n",
    "    embed_size = all_embs.shape[1]\n",
    "\n",
    "    # word_index = tokenizer.word_index\n",
    "    nb_words = min(max_features, len(word_index))\n",
    "    embedding_matrix = np.random.normal(emb_mean, emb_std, (nb_words, embed_size))\n",
    "    for word, i in word_index.items():\n",
    "        if i >= max_features: continue\n",
    "        embedding_vector = embeddings_index.get(word)\n",
    "        if embedding_vector is not None: embedding_matrix[i] = embedding_vector\n",
    "            \n",
    "    return embedding_matrix "
   ]
  },
  {
   "cell_type": "code",
   "execution_count": 8,
   "metadata": {
    "_uuid": "5fd95b3e8df95518c95097256c1216e675270dce"
   },
   "outputs": [],
   "source": [
    "embedding_matrix = load_glove(word_index)"
   ]
  },
  {
   "cell_type": "code",
   "execution_count": 9,
   "metadata": {
    "_uuid": "f1deac2ede7762e50d7a5f401c27a95a6bb7cac6"
   },
   "outputs": [],
   "source": [
    "# https://www.kaggle.com/yekenot/2dcnn-textclassifier\n",
    "def model_cnn(embedding_matrix):\n",
    "    filter_sizes = [1,2,3,5]\n",
    "    num_filters = 36\n",
    "\n",
    "    inp = Input(shape=(maxlen,))\n",
    "    x = Embedding(max_features, embed_size, weights=[embedding_matrix])(inp)\n",
    "    x = Reshape((maxlen, embed_size, 1))(x)\n",
    "\n",
    "    maxpool_pool = []\n",
    "    for i in range(len(filter_sizes)):\n",
    "        conv = Conv2D(num_filters, kernel_size=(filter_sizes[i], embed_size),\n",
    "                                     kernel_initializer='he_normal', activation='elu')(x)\n",
    "        maxpool_pool.append(MaxPool2D(pool_size=(maxlen - filter_sizes[i] + 1, 1))(conv))\n",
    "\n",
    "    z = Concatenate(axis=1)(maxpool_pool)   \n",
    "    z = Flatten()(z)\n",
    "    z = Dropout(0.1)(z)\n",
    "\n",
    "    outp = Dense(1, activation=\"sigmoid\")(z)\n",
    "\n",
    "    model = Model(inputs=inp, outputs=outp)\n",
    "    model.compile(loss='binary_crossentropy', optimizer='adam', metrics=['accuracy'])\n",
    "    \n",
    "    return model\n"
   ]
  },
  {
   "cell_type": "code",
   "execution_count": 10,
   "metadata": {
    "_uuid": "8d9e3c43a40776b5fc820e87b930a8eb0b05dd7f"
   },
   "outputs": [
    {
     "name": "stdout",
     "output_type": "stream",
     "text": [
      "__________________________________________________________________________________________________\n",
      "Layer (type)                    Output Shape         Param #     Connected to                     \n",
      "==================================================================================================\n",
      "input_1 (InputLayer)            (None, 72)           0                                            \n",
      "__________________________________________________________________________________________________\n",
      "embedding_1 (Embedding)         (None, 72, 300)      30000000    input_1[0][0]                    \n",
      "__________________________________________________________________________________________________\n",
      "reshape_1 (Reshape)             (None, 72, 300, 1)   0           embedding_1[0][0]                \n",
      "__________________________________________________________________________________________________\n",
      "conv2d_1 (Conv2D)               (None, 72, 1, 36)    10836       reshape_1[0][0]                  \n",
      "__________________________________________________________________________________________________\n",
      "conv2d_2 (Conv2D)               (None, 71, 1, 36)    21636       reshape_1[0][0]                  \n",
      "__________________________________________________________________________________________________\n",
      "conv2d_3 (Conv2D)               (None, 70, 1, 36)    32436       reshape_1[0][0]                  \n",
      "__________________________________________________________________________________________________\n",
      "conv2d_4 (Conv2D)               (None, 68, 1, 36)    54036       reshape_1[0][0]                  \n",
      "__________________________________________________________________________________________________\n",
      "max_pooling2d_1 (MaxPooling2D)  (None, 1, 1, 36)     0           conv2d_1[0][0]                   \n",
      "__________________________________________________________________________________________________\n",
      "max_pooling2d_2 (MaxPooling2D)  (None, 1, 1, 36)     0           conv2d_2[0][0]                   \n",
      "__________________________________________________________________________________________________\n",
      "max_pooling2d_3 (MaxPooling2D)  (None, 1, 1, 36)     0           conv2d_3[0][0]                   \n",
      "__________________________________________________________________________________________________\n",
      "max_pooling2d_4 (MaxPooling2D)  (None, 1, 1, 36)     0           conv2d_4[0][0]                   \n",
      "__________________________________________________________________________________________________\n",
      "concatenate_1 (Concatenate)     (None, 4, 1, 36)     0           max_pooling2d_1[0][0]            \n",
      "                                                                 max_pooling2d_2[0][0]            \n",
      "                                                                 max_pooling2d_3[0][0]            \n",
      "                                                                 max_pooling2d_4[0][0]            \n",
      "__________________________________________________________________________________________________\n",
      "flatten_1 (Flatten)             (None, 144)          0           concatenate_1[0][0]              \n",
      "__________________________________________________________________________________________________\n",
      "dropout_1 (Dropout)             (None, 144)          0           flatten_1[0][0]                  \n",
      "__________________________________________________________________________________________________\n",
      "dense_1 (Dense)                 (None, 1)            145         dropout_1[0][0]                  \n",
      "==================================================================================================\n",
      "Total params: 30,119,089\n",
      "Trainable params: 30,119,089\n",
      "Non-trainable params: 0\n",
      "__________________________________________________________________________________________________\n"
     ]
    }
   ],
   "source": [
    "model = model_cnn(embedding_matrix)\n",
    "model.summary()"
   ]
  },
  {
   "cell_type": "code",
   "execution_count": 11,
   "metadata": {
    "_uuid": "12cc76396003445892a5b606c059d4ee2c2f4ac5"
   },
   "outputs": [],
   "source": [
    "def train_pred(model, epochs=2):\n",
    "    filepath=\"weights_best.h5\"\n",
    "    checkpoint = ModelCheckpoint(filepath, monitor='val_loss', verbose=2, save_best_only=True, mode='min')\n",
    "    reduce_lr = ReduceLROnPlateau(monitor='val_loss', factor=0.5, patience=1, min_lr=0.0001, verbose=2)\n",
    "    earlystopping = EarlyStopping(monitor='val_loss', min_delta=0.0001, patience=2, verbose=2, mode='auto')\n",
    "    callbacks = [checkpoint, reduce_lr]\n",
    "    for e in range(epochs):\n",
    "        model.fit(train_X, train_y, batch_size=512, epochs=1, validation_data=(val_X, val_y),callbacks=callbacks)\n",
    "    model.load_weights(filepath)\n",
    "    pred_val_y = model.predict([val_X], batch_size=1024, verbose=0)\n",
    "    pred_test_y = model.predict([test_X], batch_size=1024, verbose=0)\n",
    "    return pred_val_y, pred_test_y"
   ]
  },
  {
   "cell_type": "code",
   "execution_count": 12,
   "metadata": {
    "_uuid": "47455502d90e82d3228b444c847eb8559e452452"
   },
   "outputs": [
    {
     "name": "stdout",
     "output_type": "stream",
     "text": [
      "Train on 1201632 samples, validate on 104490 samples\n",
      "Epoch 1/1\n",
      "1201632/1201632 [==============================] - 239s 199us/step - loss: 0.1117 - acc: 0.9558 - val_loss: 0.1018 - val_acc: 0.9581\n",
      "\n",
      "Epoch 00001: val_loss improved from inf to 0.10183, saving model to weights_best.h5\n",
      "Train on 1201632 samples, validate on 104490 samples\n",
      "Epoch 1/1\n",
      "1201632/1201632 [==============================] - 235s 196us/step - loss: 0.0920 - acc: 0.9631 - val_loss: 0.1044 - val_acc: 0.9585\n",
      "\n",
      "Epoch 00001: val_loss did not improve from 0.10183\n",
      "Train on 1201632 samples, validate on 104490 samples\n",
      "Epoch 1/1\n",
      "1201632/1201632 [==============================] - 235s 196us/step - loss: 0.0767 - acc: 0.9697 - val_loss: 0.1086 - val_acc: 0.9580\n",
      "\n",
      "Epoch 00001: val_loss did not improve from 0.10183\n",
      "Train on 1201632 samples, validate on 104490 samples\n",
      "Epoch 1/1\n",
      "1201632/1201632 [==============================] - 235s 196us/step - loss: 0.0587 - acc: 0.9775 - val_loss: 0.1258 - val_acc: 0.9544\n",
      "\n",
      "Epoch 00001: val_loss did not improve from 0.10183\n",
      "Train on 1201632 samples, validate on 104490 samples\n",
      "Epoch 1/1\n",
      "1201632/1201632 [==============================] - 234s 195us/step - loss: 0.0433 - acc: 0.9837 - val_loss: 0.1417 - val_acc: 0.9547\n",
      "\n",
      "Epoch 00001: val_loss did not improve from 0.10183\n",
      "Train on 1201632 samples, validate on 104490 samples\n",
      "Epoch 1/1\n",
      "1201632/1201632 [==============================] - 235s 195us/step - loss: 0.0322 - acc: 0.9881 - val_loss: 0.1746 - val_acc: 0.9545\n",
      "\n",
      "Epoch 00001: val_loss did not improve from 0.10183\n",
      "Train on 1201632 samples, validate on 104490 samples\n",
      "Epoch 1/1\n",
      "1201632/1201632 [==============================] - 235s 195us/step - loss: 0.0251 - acc: 0.9909 - val_loss: 0.1857 - val_acc: 0.9518\n",
      "\n",
      "Epoch 00001: val_loss did not improve from 0.10183\n",
      "Train on 1201632 samples, validate on 104490 samples\n",
      "Epoch 1/1\n",
      "1201632/1201632 [==============================] - 235s 195us/step - loss: 0.0204 - acc: 0.9926 - val_loss: 0.2056 - val_acc: 0.9502\n",
      "\n",
      "Epoch 00001: val_loss did not improve from 0.10183\n",
      "CPU times: user 18min 37s, sys: 5min 49s, total: 24min 27s\n",
      "Wall time: 31min 34s\n"
     ]
    }
   ],
   "source": [
    "%%time\n",
    "pred_val_y, pred_test_y = train_pred(model, epochs=8)"
   ]
  },
  {
   "cell_type": "code",
   "execution_count": 13,
   "metadata": {
    "_uuid": "1d96ef5cdebbcfb06bf60f1a15efcc3df16e5206"
   },
   "outputs": [],
   "source": [
    "'''\n",
    "A function specific to this competition since the organizers don't want probabilities \n",
    "and only want 0/1 classification maximizing the F1 score. This function computes the best F1 score by looking at val set predictions\n",
    "'''\n",
    "\n",
    "def f1_smart(y_true, y_pred):\n",
    "    thresholds = []\n",
    "    for thresh in np.arange(0.1, 0.501, 0.01):\n",
    "        thresh = np.round(thresh, 2)\n",
    "        res = metrics.f1_score(y_true, (y_pred > thresh).astype(int))\n",
    "        thresholds.append([thresh, res])\n",
    "        print(\"F1 score at threshold {0} is {1}\".format(thresh, res))\n",
    "\n",
    "    thresholds.sort(key=lambda x: x[1], reverse=True)\n",
    "    best_thresh = thresholds[0][0]\n",
    "    best_f1 = thresholds[0][1]\n",
    "    print(\"Best threshold: \", best_thresh)\n",
    "    return  best_f1, best_thresh"
   ]
  },
  {
   "cell_type": "code",
   "execution_count": 14,
   "metadata": {
    "_uuid": "c2bffd9f01cd518a85d9cfe2b18a4249b0627149"
   },
   "outputs": [
    {
     "data": {
      "text/plain": [
       "array([[2.7817095e-04],\n",
       "       [9.8425537e-02],\n",
       "       [6.1620641e-02],\n",
       "       ...,\n",
       "       [9.8767015e-04],\n",
       "       [9.2959052e-01],\n",
       "       [6.8634801e-04]], dtype=float32)"
      ]
     },
     "execution_count": 14,
     "metadata": {},
     "output_type": "execute_result"
    }
   ],
   "source": [
    "pred_val_y"
   ]
  },
  {
   "cell_type": "code",
   "execution_count": 15,
   "metadata": {
    "_uuid": "d675e0d66b611d013c899815285b88e0449b9dbb"
   },
   "outputs": [
    {
     "data": {
      "text/plain": [
       "array([0, 0, 0, ..., 0, 0, 0])"
      ]
     },
     "execution_count": 15,
     "metadata": {},
     "output_type": "execute_result"
    }
   ],
   "source": [
    "val_y"
   ]
  },
  {
   "cell_type": "code",
   "execution_count": 16,
   "metadata": {
    "_uuid": "7d5d8510b74d485325a3f4ac65bfe63c53a33121"
   },
   "outputs": [
    {
     "name": "stdout",
     "output_type": "stream",
     "text": [
      "F1 score at threshold 0.1 is 0.612896174863388\n",
      "F1 score at threshold 0.11 is 0.6238769092542678\n",
      "F1 score at threshold 0.12 is 0.6295508138264221\n",
      "F1 score at threshold 0.13 is 0.637203554404755\n",
      "F1 score at threshold 0.14 is 0.6457932692307693\n",
      "F1 score at threshold 0.15 is 0.652538739511239\n",
      "F1 score at threshold 0.16 is 0.6569825436408978\n",
      "F1 score at threshold 0.17 is 0.6606587548391191\n",
      "F1 score at threshold 0.18 is 0.6652916532388011\n",
      "F1 score at threshold 0.19 is 0.6664920094314908\n",
      "F1 score at threshold 0.2 is 0.668971477960242\n",
      "F1 score at threshold 0.21 is 0.6699002964160603\n",
      "F1 score at threshold 0.22 is 0.6713544511196067\n",
      "F1 score at threshold 0.23 is 0.672565148268473\n",
      "F1 score at threshold 0.24 is 0.6732506829165791\n",
      "F1 score at threshold 0.25 is 0.6735692504077725\n",
      "F1 score at threshold 0.26 is 0.67346645596897\n",
      "F1 score at threshold 0.27 is 0.6724414034066095\n",
      "F1 score at threshold 0.28 is 0.670940170940171\n",
      "F1 score at threshold 0.29 is 0.6703411291523909\n",
      "F1 score at threshold 0.3 is 0.669026815305815\n",
      "F1 score at threshold 0.31 is 0.6681873479318734\n",
      "F1 score at threshold 0.32 is 0.6671276023661367\n",
      "F1 score at threshold 0.33 is 0.6637188736327672\n",
      "F1 score at threshold 0.34 is 0.6618016321406152\n",
      "F1 score at threshold 0.35 is 0.659270998415214\n",
      "F1 score at threshold 0.36 is 0.657736424159782\n",
      "F1 score at threshold 0.37 is 0.6540269000162049\n",
      "F1 score at threshold 0.38 is 0.6519355102708897\n",
      "F1 score at threshold 0.39 is 0.6474131529004042\n",
      "F1 score at threshold 0.4 is 0.6439235966302443\n",
      "F1 score at threshold 0.41 is 0.6418714237630428\n",
      "F1 score at threshold 0.42 is 0.6368895695082525\n",
      "F1 score at threshold 0.43 is 0.6320130595411977\n",
      "F1 score at threshold 0.44 is 0.6291258771549857\n",
      "F1 score at threshold 0.45 is 0.6248797971850686\n",
      "F1 score at threshold 0.46 is 0.6200264666960741\n",
      "F1 score at threshold 0.47 is 0.6151517849194338\n",
      "F1 score at threshold 0.48 is 0.6096025894623269\n",
      "F1 score at threshold 0.49 is 0.603105420866249\n",
      "F1 score at threshold 0.5 is 0.5986257443884563\n",
      "Best threshold:  0.25\n",
      "Optimal F1: 0.6735692504077725 at threshold: 0.25\n"
     ]
    }
   ],
   "source": [
    "f1, threshold = f1_smart(val_y, pred_val_y)\n",
    "print('Optimal F1: {} at threshold: {}'.format(f1, threshold))"
   ]
  },
  {
   "cell_type": "code",
   "execution_count": 17,
   "metadata": {
    "_uuid": "8a2ebacbb1dee6fe84c01ebf963f74828b7b7c7f"
   },
   "outputs": [],
   "source": [
    "pred_test_y = (pred_test_y >threshold).astype(int)\n",
    "test_df = pd.read_csv(\"../input/test.csv\", usecols=[\"qid\"])\n",
    "out_df = pd.DataFrame({\"qid\":test_df[\"qid\"].values})\n",
    "out_df['prediction'] = pred_test_y\n",
    "out_df.to_csv(\"submission.csv\", index=False)"
   ]
  },
  {
   "cell_type": "markdown",
   "metadata": {
    "_uuid": "2712c79d30027c85017560a76c6f6b237e511e36"
   },
   "source": [
    "References\n",
    "\n",
    "Based on mlwhiz's kernel: https://www.kaggle.com/mlwhiz/learning-text-classification-textcnn"
   ]
  }
 ],
 "metadata": {
  "kernelspec": {
   "display_name": "general",
   "language": "python",
   "name": "general"
  },
  "language_info": {
   "codemirror_mode": {
    "name": "ipython",
    "version": 3
   },
   "file_extension": ".py",
   "mimetype": "text/x-python",
   "name": "python",
   "nbconvert_exporter": "python",
   "pygments_lexer": "ipython3",
   "version": "3.6.0"
  }
 },
 "nbformat": 4,
 "nbformat_minor": 1
}
