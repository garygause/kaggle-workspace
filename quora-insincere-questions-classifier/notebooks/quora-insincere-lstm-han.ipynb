{
 "cells": [
  {
   "cell_type": "code",
   "execution_count": 1,
   "metadata": {
    "_cell_guid": "79c7e3d0-c299-4dcb-8224-4455121ee9b0",
    "_uuid": "d629ff2d2480ee46fbb7e2d37f6b5fab8052498a"
   },
   "outputs": [],
   "source": [
    "# For this version, we use a baseline hierarchical attention network as demonstrated by this notebook:\n",
    "# https://www.kaggle.com/mlwhiz/learning-text-classification-attention\n",
    "# Used as baseline for further enhancement"
   ]
  },
  {
   "cell_type": "code",
   "execution_count": 17,
   "metadata": {
    "_uuid": "28e1e71cc4faf944cfeac83d449425dbbf0261a0"
   },
   "outputs": [],
   "source": [
    "# Some imports, we are not gong to use all the imports in this workbook but in subsequent workbooks we surely will.\n",
    "import os\n",
    "import time\n",
    "import numpy as np # linear algebra\n",
    "import pandas as pd # data processing, CSV file I/O (e.g. pd.read_csv)\n",
    "from tqdm import tqdm\n",
    "import math\n",
    "from sklearn.model_selection import train_test_split\n",
    "from sklearn import metrics\n",
    "\n",
    "from keras.preprocessing.text import Tokenizer\n",
    "from keras.preprocessing.sequence import pad_sequences\n",
    "from keras.layers import Dense, Input, CuDNNLSTM, Embedding, Dropout, Activation, CuDNNGRU, Conv1D\n",
    "from keras.layers import Bidirectional, GlobalMaxPool1D, GlobalMaxPooling1D, GlobalAveragePooling1D\n",
    "from keras.layers import Input, Embedding, Dense, Conv2D, MaxPool2D, concatenate\n",
    "from keras.layers import Reshape, Flatten, Concatenate, Dropout, SpatialDropout1D\n",
    "from keras.optimizers import Adam\n",
    "from keras.models import Model\n",
    "from keras import backend as K\n",
    "from keras.engine.topology import Layer\n",
    "from keras import initializers, regularizers, constraints, optimizers, layers\n",
    "\n",
    "\n",
    "from keras.layers import *\n",
    "from keras.models import *\n",
    "from keras import initializers, regularizers, constraints, optimizers, layers\n",
    "from keras.initializers import *\n",
    "from keras.optimizers import *\n",
    "import keras.backend as K\n",
    "from keras.callbacks import *\n",
    "import tensorflow as tf\n",
    "import os\n",
    "import time\n",
    "import gc\n",
    "import re\n",
    "import glob\n",
    "import matplotlib.pyplot as plt\n",
    "%matplotlib inline"
   ]
  },
  {
   "cell_type": "code",
   "execution_count": 2,
   "metadata": {
    "_uuid": "08bac6a132c34a10e7e2dcf6a85030aa61a5b04f"
   },
   "outputs": [],
   "source": [
    "# Define some Global Variables\n",
    "max_features = 100000 # Maximum Number of words we want to include in our dictionary\n",
    "maxlen = 72 # No of words in question we want to create a sequence with\n",
    "embed_size = 300# Size of word to vec embedding we are using"
   ]
  },
  {
   "cell_type": "code",
   "execution_count": 3,
   "metadata": {
    "_uuid": "3853e0950eec43c523993effcfada3290aedc873"
   },
   "outputs": [],
   "source": [
    "# Some preprocesssing that will be common to all the text classification methods you will see. \n",
    "puncts = [',', '.', '\"', ':', ')', '(', '-', '!', '?', '|', ';', \"'\", '$', '&', '/', '[', ']', '>', '%', '=', '#', '*', '+', '\\\\', '•',  '~', '@', '£', \n",
    " '·', '_', '{', '}', '©', '^', '®', '`',  '<', '→', '°', '€', '™', '›',  '♥', '←', '×', '§', '″', '′', 'Â', '█', '½', 'à', '…', \n",
    " '“', '★', '”', '–', '●', 'â', '►', '−', '¢', '²', '¬', '░', '¶', '↑', '±', '¿', '▾', '═', '¦', '║', '―', '¥', '▓', '—', '‹', '─', \n",
    " '▒', '：', '¼', '⊕', '▼', '▪', '†', '■', '’', '▀', '¨', '▄', '♫', '☆', 'é', '¯', '♦', '¤', '▲', 'è', '¸', '¾', 'Ã', '⋅', '‘', '∞', \n",
    " '∙', '）', '↓', '、', '│', '（', '»', '，', '♪', '╩', '╚', '³', '・', '╦', '╣', '╔', '╗', '▬', '❤', 'ï', 'Ø', '¹', '≤', '‡', '√', ]\n",
    "def clean_text(x):\n",
    "    x = str(x)\n",
    "    for punct in puncts:\n",
    "        x = x.replace(punct, f' {punct} ')\n",
    "    return x\n",
    "\n",
    "# Loading the data\n",
    "def load_and_prec():\n",
    "    train_df = pd.read_csv(\"../input/train.csv\")\n",
    "    test_df = pd.read_csv(\"../input/test.csv\")\n",
    "    \n",
    "    print(\"Train shape : \",train_df.shape)\n",
    "    print(\"Test shape : \",test_df.shape)\n",
    "    \n",
    "    train_df[\"question_text\"] = train_df[\"question_text\"].apply(lambda x: clean_text(x))\n",
    "    test_df[\"question_text\"] = test_df[\"question_text\"].apply(lambda x: clean_text(x))\n",
    "    \n",
    "    ## split to train and val\n",
    "    train_df, val_df = train_test_split(train_df, test_size=0.08, random_state=2018) # .08 since the datasize is large enough.\n",
    "\n",
    "    ## fill up the missing values\n",
    "    train_X = train_df[\"question_text\"].fillna(\"_##_\").values\n",
    "    val_X = val_df[\"question_text\"].fillna(\"_##_\").values\n",
    "    test_X = test_df[\"question_text\"].fillna(\"_##_\").values\n",
    "\n",
    "    ## Tokenize the sentences\n",
    "    '''\n",
    "    keras.preprocessing.text.Tokenizer tokenizes(splits) the texts into tokens(words).\n",
    "    Signature:\n",
    "    Tokenizer(num_words=None, filters='!\"#$%&()*+,-./:;<=>?@[\\\\]^_`{|}~\\t\\n', \n",
    "    lower=True, split=' ', char_level=False, oov_token=None, document_count=0, **kwargs)\n",
    "\n",
    "    The num_words parameter keeps a prespecified number of words in the text only. \n",
    "    It also filters some non wanted tokens by default and converts the text into lowercase.\n",
    "\n",
    "    It keeps an index of words(dictionary of words which we can use to assign a unique number to a word) \n",
    "    which can be accessed by tokenizer.word_index.\n",
    "    For example - For a text corpus the tokenizer word index might look like. \n",
    "    The words in the indexed dictionary are sort of ranked in order of frequencies,\n",
    "    {'the': 1,'what': 2,'is': 3, 'a': 4, 'to': 5, 'in': 6, 'of': 7, 'i': 8, 'how': 9}\n",
    "    \n",
    "    The texts_to_sequence function converts every word(token) to its respective index in the word_index\n",
    "    \n",
    "    So Lets say we started with \n",
    "    train_X as something like ['This is a sentence','This is another bigger sentence']\n",
    "    and after fitting our tokenizer we get the word_index as {'this':1,'is':2,'sentence':3,'a':4,'another':5,'bigger':6}\n",
    "    The texts_to_sequence function will tokenize the sentences and replace words with individual tokens to give us \n",
    "    train_X = [[1,2,4,3],[1,2,5,6,3]]\n",
    "    '''\n",
    "    tokenizer = Tokenizer(num_words=max_features)\n",
    "    tokenizer.fit_on_texts(list(train_X))\n",
    "    train_X = tokenizer.texts_to_sequences(train_X)\n",
    "    val_X = tokenizer.texts_to_sequences(val_X)\n",
    "    test_X = tokenizer.texts_to_sequences(test_X)\n",
    "\n",
    "    ## Pad the sentences. We need to pad the sequence with 0's to achieve consistent length across examples.\n",
    "    '''\n",
    "    We had train_X = [[1,2,4,3],[1,2,5,6,3]]\n",
    "    lets say maxlen=6\n",
    "        We will then get \n",
    "        train_X = [[1,2,4,3,0,0],[1,2,5,6,3,0]]\n",
    "    '''\n",
    "    train_X = pad_sequences(train_X, maxlen=maxlen)\n",
    "    val_X = pad_sequences(val_X, maxlen=maxlen)\n",
    "    test_X = pad_sequences(test_X, maxlen=maxlen)\n",
    "\n",
    "    ## Get the target values\n",
    "    train_y = train_df['target'].values\n",
    "    val_y = val_df['target'].values  \n",
    "    \n",
    "    #shuffling the data\n",
    "    np.random.seed(2018)\n",
    "    trn_idx = np.random.permutation(len(train_X))\n",
    "    val_idx = np.random.permutation(len(val_X))\n",
    "\n",
    "    train_X = train_X[trn_idx]\n",
    "    val_X = val_X[val_idx]\n",
    "    train_y = train_y[trn_idx]\n",
    "    val_y = val_y[val_idx]    \n",
    "    \n",
    "    return train_X, val_X, test_X, train_y, val_y, tokenizer.word_index"
   ]
  },
  {
   "cell_type": "code",
   "execution_count": 4,
   "metadata": {
    "_uuid": "6397134d73a61d75fbc75b5624d5c24f430cb643"
   },
   "outputs": [
    {
     "name": "stdout",
     "output_type": "stream",
     "text": [
      "Train shape :  (1306122, 3)\n",
      "Test shape :  (56370, 2)\n",
      "CPU times: user 1min 49s, sys: 864 ms, total: 1min 49s\n",
      "Wall time: 1min 50s\n"
     ]
    }
   ],
   "source": [
    "%%time\n",
    "train_X, val_X, test_X, train_y, val_y, word_index = load_and_prec()\n"
   ]
  },
  {
   "cell_type": "code",
   "execution_count": 5,
   "metadata": {
    "_uuid": "0f916a810d83a537f11e9d0f3eb2fa49333455e4"
   },
   "outputs": [],
   "source": [
    "# Word 2 vec Embedding\n",
    "\n",
    "def load_glove(word_index):\n",
    "    '''We want to create an embedding matrix in which we keep only the word2vec for words which are in our word_index\n",
    "    '''\n",
    "    EMBEDDING_FILE = '../input/embeddings/glove.840B.300d/glove.840B.300d.txt'\n",
    "    def get_coefs(word,*arr): return word, np.asarray(arr, dtype='float32')\n",
    "    embeddings_index = dict(get_coefs(*o.split(\" \")) for o in open(EMBEDDING_FILE))\n",
    "\n",
    "    all_embs = np.stack(embeddings_index.values())\n",
    "    emb_mean,emb_std = -0.005838499,0.48782197\n",
    "    embed_size = all_embs.shape[1]\n",
    "\n",
    "    # word_index = tokenizer.word_index\n",
    "    nb_words = min(max_features, len(word_index))\n",
    "    embedding_matrix = np.random.normal(emb_mean, emb_std, (nb_words, embed_size))\n",
    "    for word, i in word_index.items():\n",
    "        if i >= max_features: continue\n",
    "        embedding_vector = embeddings_index.get(word)\n",
    "        if embedding_vector is not None: embedding_matrix[i] = embedding_vector\n",
    "            \n",
    "    return embedding_matrix "
   ]
  },
  {
   "cell_type": "code",
   "execution_count": 6,
   "metadata": {
    "_uuid": "5fd95b3e8df95518c95097256c1216e675270dce"
   },
   "outputs": [],
   "source": [
    "embedding_matrix = load_glove(word_index)"
   ]
  },
  {
   "cell_type": "code",
   "execution_count": 7,
   "metadata": {
    "_uuid": "f1deac2ede7762e50d7a5f401c27a95a6bb7cac6"
   },
   "outputs": [],
   "source": [
    "def dot_product(x, kernel):\n",
    "    \"\"\"\n",
    "    Wrapper for dot product operation, in order to be compatible with both\n",
    "    Theano and Tensorflow\n",
    "    Args:\n",
    "        x (): input\n",
    "        kernel (): weights\n",
    "    Returns:\n",
    "    \"\"\"\n",
    "    if K.backend() == 'tensorflow':\n",
    "        return K.squeeze(K.dot(x, K.expand_dims(kernel)), axis=-1)\n",
    "    else:\n",
    "        return K.dot(x, kernel)\n",
    "    \n",
    "\n",
    "class AttentionWithContext(Layer):\n",
    "    \"\"\"\n",
    "    Attention operation, with a context/query vector, for temporal data.\n",
    "    Supports Masking.\n",
    "    Follows the work of Yang et al. [https://www.cs.cmu.edu/~diyiy/docs/naacl16.pdf]\n",
    "    \"Hierarchical Attention Networks for Document Classification\"\n",
    "    by using a context vector to assist the attention\n",
    "    # Input shape\n",
    "        3D tensor with shape: `(samples, steps, features)`.\n",
    "    # Output shape\n",
    "        2D tensor with shape: `(samples, features)`.\n",
    "    How to use:\n",
    "    Just put it on top of an RNN Layer (GRU/LSTM/SimpleRNN) with return_sequences=True.\n",
    "    The dimensions are inferred based on the output shape of the RNN.\n",
    "    Note: The layer has been tested with Keras 2.0.6\n",
    "    Example:\n",
    "        model.add(LSTM(64, return_sequences=True))\n",
    "        model.add(AttentionWithContext())\n",
    "        # next add a Dense layer (for classification/regression) or whatever...\n",
    "    \"\"\"\n",
    "\n",
    "    def __init__(self,\n",
    "                 W_regularizer=None, u_regularizer=None, b_regularizer=None,\n",
    "                 W_constraint=None, u_constraint=None, b_constraint=None,\n",
    "                 bias=True, **kwargs):\n",
    "\n",
    "        self.supports_masking = True\n",
    "        self.init = initializers.get('glorot_uniform')\n",
    "\n",
    "        self.W_regularizer = regularizers.get(W_regularizer)\n",
    "        self.u_regularizer = regularizers.get(u_regularizer)\n",
    "        self.b_regularizer = regularizers.get(b_regularizer)\n",
    "\n",
    "        self.W_constraint = constraints.get(W_constraint)\n",
    "        self.u_constraint = constraints.get(u_constraint)\n",
    "        self.b_constraint = constraints.get(b_constraint)\n",
    "\n",
    "        self.bias = bias\n",
    "        super(AttentionWithContext, self).__init__(**kwargs)\n",
    "\n",
    "    def build(self, input_shape):\n",
    "        assert len(input_shape) == 3\n",
    "\n",
    "        self.W = self.add_weight((input_shape[-1], input_shape[-1],),\n",
    "                                 initializer=self.init,\n",
    "                                 name='{}_W'.format(self.name),\n",
    "                                 regularizer=self.W_regularizer,\n",
    "                                 constraint=self.W_constraint)\n",
    "        if self.bias:\n",
    "            self.b = self.add_weight((input_shape[-1],),\n",
    "                                     initializer='zero',\n",
    "                                     name='{}_b'.format(self.name),\n",
    "                                     regularizer=self.b_regularizer,\n",
    "                                     constraint=self.b_constraint)\n",
    "\n",
    "        self.u = self.add_weight((input_shape[-1],),\n",
    "                                 initializer=self.init,\n",
    "                                 name='{}_u'.format(self.name),\n",
    "                                 regularizer=self.u_regularizer,\n",
    "                                 constraint=self.u_constraint)\n",
    "\n",
    "        super(AttentionWithContext, self).build(input_shape)\n",
    "\n",
    "    def compute_mask(self, input, input_mask=None):\n",
    "        # do not pass the mask to the next layers\n",
    "        return None\n",
    "\n",
    "    def call(self, x, mask=None):\n",
    "        uit = dot_product(x, self.W)\n",
    "\n",
    "        if self.bias:\n",
    "            uit += self.b\n",
    "\n",
    "        uit = K.tanh(uit)\n",
    "        ait = dot_product(uit, self.u)\n",
    "\n",
    "        a = K.exp(ait)\n",
    "\n",
    "        # apply mask after the exp. will be re-normalized next\n",
    "        if mask is not None:\n",
    "            # Cast the mask to floatX to avoid float64 upcasting in theano\n",
    "            a *= K.cast(mask, K.floatx())\n",
    "\n",
    "        # in some cases especially in the early stages of training the sum may be almost zero\n",
    "        # and this results in NaN's. A workaround is to add a very small positive number ε to the sum.\n",
    "        # a /= K.cast(K.sum(a, axis=1, keepdims=True), K.floatx())\n",
    "        a /= K.cast(K.sum(a, axis=1, keepdims=True) + K.epsilon(), K.floatx())\n",
    "\n",
    "        a = K.expand_dims(a)\n",
    "        weighted_input = x * a\n",
    "        return K.sum(weighted_input, axis=1)\n",
    "\n",
    "    def compute_output_shape(self, input_shape):\n",
    "        return input_shape[0], input_shape[-1]"
   ]
  },
  {
   "cell_type": "code",
   "execution_count": 8,
   "metadata": {
    "_uuid": "700b9fcf5489e1974fd5089371204ecb8917bc97"
   },
   "outputs": [],
   "source": [
    "def model_lstm_atten(embedding_matrix):\n",
    "    inp = Input(shape=(maxlen,))\n",
    "    x = Embedding(max_features, embed_size, weights=[embedding_matrix], trainable=False)(inp)\n",
    "    x = Bidirectional(CuDNNLSTM(128, return_sequences=True))(x)\n",
    "    x = Bidirectional(CuDNNLSTM(64, return_sequences=True))(x)\n",
    "    x = AttentionWithContext()(x)\n",
    "    x = Dense(64, activation=\"relu\")(x)\n",
    "    x = Dense(1, activation=\"sigmoid\")(x)\n",
    "    model = Model(inputs=inp, outputs=x)\n",
    "    model.compile(loss='binary_crossentropy', optimizer='adam', metrics=['accuracy'])\n",
    "    return model"
   ]
  },
  {
   "cell_type": "code",
   "execution_count": 9,
   "metadata": {
    "_uuid": "8d9e3c43a40776b5fc820e87b930a8eb0b05dd7f"
   },
   "outputs": [
    {
     "name": "stdout",
     "output_type": "stream",
     "text": [
      "_________________________________________________________________\n",
      "Layer (type)                 Output Shape              Param #   \n",
      "=================================================================\n",
      "input_1 (InputLayer)         (None, 72)                0         \n",
      "_________________________________________________________________\n",
      "embedding_1 (Embedding)      (None, 72, 300)           30000000  \n",
      "_________________________________________________________________\n",
      "bidirectional_1 (Bidirection (None, 72, 256)           440320    \n",
      "_________________________________________________________________\n",
      "bidirectional_2 (Bidirection (None, 72, 128)           164864    \n",
      "_________________________________________________________________\n",
      "attention_with_context_1 (At (None, 128)               16640     \n",
      "_________________________________________________________________\n",
      "dense_1 (Dense)              (None, 64)                8256      \n",
      "_________________________________________________________________\n",
      "dense_2 (Dense)              (None, 1)                 65        \n",
      "=================================================================\n",
      "Total params: 30,630,145\n",
      "Trainable params: 630,145\n",
      "Non-trainable params: 30,000,000\n",
      "_________________________________________________________________\n"
     ]
    }
   ],
   "source": [
    "model = model_lstm_atten(embedding_matrix)\n",
    "model.summary()"
   ]
  },
  {
   "cell_type": "code",
   "execution_count": 18,
   "metadata": {
    "_uuid": "12cc76396003445892a5b606c059d4ee2c2f4ac5"
   },
   "outputs": [],
   "source": [
    "def focal_loss(gamma=2, alpha=0.75):\n",
    "    def focal_loss_fixed(y_true, y_pred):#with tensorflow\n",
    "        eps = 1e-12\n",
    "        y_pred=K.clip(y_pred,eps,1.-eps)#improve the stability of the focal loss and see issues 1 for more information\n",
    "        pt_1 = tf.where(tf.equal(y_true, 1), y_pred, tf.ones_like(y_pred))\n",
    "        pt_0 = tf.where(tf.equal(y_true, 0), y_pred, tf.zeros_like(y_pred))\n",
    "        return -K.sum(alpha * K.pow(1. - pt_1, gamma) * K.log(pt_1))-K.sum((1-alpha) * K.pow( pt_0, gamma) * K.log(1. - pt_0))\n",
    "    return focal_loss_fixed\n",
    "\n",
    "def train_pred(model, epochs=2):\n",
    "    filepath=\"weights_best.h5\"\n",
    "    checkpoint = ModelCheckpoint(filepath, monitor='val_loss', verbose=2, save_best_only=True, mode='min')\n",
    "    reduce_lr = ReduceLROnPlateau(monitor='val_loss', factor=0.5, patience=1, min_lr=0.0001, verbose=2)\n",
    "    earlystopping = EarlyStopping(monitor='val_loss', min_delta=0.0001, patience=2, verbose=2, mode='auto')\n",
    "    callbacks = [checkpoint, reduce_lr]\n",
    "    history = model.fit(train_X, train_y, batch_size=512, epochs=epochs, validation_data=(val_X, val_y),callbacks=callbacks)\n",
    "    model.load_weights(filepath)\n",
    "    pred_val_y = model.predict([val_X], batch_size=1024, verbose=0)\n",
    "    pred_test_y = model.predict([test_X], batch_size=1024, verbose=0)\n",
    "    return pred_val_y, pred_test_y, history\n"
   ]
  },
  {
   "cell_type": "code",
   "execution_count": 19,
   "metadata": {
    "_uuid": "47455502d90e82d3228b444c847eb8559e452452"
   },
   "outputs": [
    {
     "name": "stdout",
     "output_type": "stream",
     "text": [
      "Train on 1201632 samples, validate on 104490 samples\n",
      "Epoch 1/15\n",
      "1201632/1201632 [==============================] - 263s 219us/step - loss: 0.0759 - acc: 0.9690 - val_loss: 0.0992 - val_acc: 0.9610\n",
      "\n",
      "Epoch 00001: val_loss improved from inf to 0.09925, saving model to weights_best.h5\n",
      "Epoch 2/15\n",
      "1201632/1201632 [==============================] - 263s 219us/step - loss: 0.0731 - acc: 0.9702 - val_loss: 0.1001 - val_acc: 0.9610\n",
      "\n",
      "Epoch 00002: val_loss did not improve from 0.09925\n",
      "Epoch 3/15\n",
      "1201632/1201632 [==============================] - 263s 219us/step - loss: 0.0708 - acc: 0.9712 - val_loss: 0.1021 - val_acc: 0.9605\n",
      "\n",
      "Epoch 00003: val_loss did not improve from 0.09925\n",
      "Epoch 4/15\n",
      "1201632/1201632 [==============================] - 263s 219us/step - loss: 0.0686 - acc: 0.9721 - val_loss: 0.1033 - val_acc: 0.9601\n",
      "\n",
      "Epoch 00004: val_loss did not improve from 0.09925\n",
      "Epoch 5/15\n",
      "1201632/1201632 [==============================] - 263s 219us/step - loss: 0.0663 - acc: 0.9730 - val_loss: 0.1053 - val_acc: 0.9601\n",
      "\n",
      "Epoch 00005: val_loss did not improve from 0.09925\n",
      "Epoch 6/15\n",
      "1201632/1201632 [==============================] - 263s 219us/step - loss: 0.0641 - acc: 0.9740 - val_loss: 0.1085 - val_acc: 0.9595\n",
      "\n",
      "Epoch 00006: val_loss did not improve from 0.09925\n",
      "Epoch 7/15\n",
      "1201632/1201632 [==============================] - 264s 220us/step - loss: 0.0618 - acc: 0.9751 - val_loss: 0.1126 - val_acc: 0.9596\n",
      "\n",
      "Epoch 00007: val_loss did not improve from 0.09925\n",
      "Epoch 8/15\n",
      "1201632/1201632 [==============================] - 264s 220us/step - loss: 0.0594 - acc: 0.9761 - val_loss: 0.1156 - val_acc: 0.9592\n",
      "\n",
      "Epoch 00008: val_loss did not improve from 0.09925\n",
      "Epoch 9/15\n",
      "1201632/1201632 [==============================] - 264s 220us/step - loss: 0.0569 - acc: 0.9772 - val_loss: 0.1203 - val_acc: 0.9585\n",
      "\n",
      "Epoch 00009: val_loss did not improve from 0.09925\n",
      "Epoch 10/15\n",
      "1201632/1201632 [==============================] - 263s 219us/step - loss: 0.0544 - acc: 0.9784 - val_loss: 0.1253 - val_acc: 0.9579\n",
      "\n",
      "Epoch 00010: val_loss did not improve from 0.09925\n",
      "Epoch 11/15\n",
      "1201632/1201632 [==============================] - 264s 220us/step - loss: 0.0519 - acc: 0.9794 - val_loss: 0.1331 - val_acc: 0.9577\n",
      "\n",
      "Epoch 00011: val_loss did not improve from 0.09925\n",
      "Epoch 12/15\n",
      "1201632/1201632 [==============================] - 264s 220us/step - loss: 0.0494 - acc: 0.9805 - val_loss: 0.1396 - val_acc: 0.9572\n",
      "\n",
      "Epoch 00012: val_loss did not improve from 0.09925\n",
      "Epoch 13/15\n",
      "1201632/1201632 [==============================] - 263s 219us/step - loss: 0.0470 - acc: 0.9817 - val_loss: 0.1440 - val_acc: 0.9564\n",
      "\n",
      "Epoch 00013: val_loss did not improve from 0.09925\n",
      "Epoch 14/15\n",
      "1201632/1201632 [==============================] - 263s 219us/step - loss: 0.0446 - acc: 0.9827 - val_loss: 0.1541 - val_acc: 0.9566\n",
      "\n",
      "Epoch 00014: val_loss did not improve from 0.09925\n",
      "Epoch 15/15\n",
      "1201632/1201632 [==============================] - 264s 220us/step - loss: 0.0424 - acc: 0.9837 - val_loss: 0.1602 - val_acc: 0.9559\n",
      "\n",
      "Epoch 00015: val_loss did not improve from 0.09925\n",
      "CPU times: user 47min 2s, sys: 8min 41s, total: 55min 43s\n",
      "Wall time: 1h 6min 1s\n"
     ]
    }
   ],
   "source": [
    "%%time\n",
    "pred_val_y, pred_test_y, history = train_pred(model, epochs=15)"
   ]
  },
  {
   "cell_type": "code",
   "execution_count": 20,
   "metadata": {},
   "outputs": [
    {
     "data": {
      "image/png": "[encoded data removed]",
      "text/plain": [
       "<Figure size 432x288 with 1 Axes>"
      ]
     },
     "metadata": {
      "needs_background": "light"
     },
     "output_type": "display_data"
    }
   ],
   "source": [
    "fig1 = plt.figure()\n",
    "plt.plot(history.history['loss'], 'r', linewidth=3.0)\n",
    "plt.plot(history.history['val_loss'], 'b', linewidth=3.0)\n",
    "plt.legend(['Training loss', 'Validation loss'], fontsize=18)\n",
    "plt.xlabel('Epochs ', fontsize=16)\n",
    "plt.ylabel('Loss', fontsize=16)\n",
    "plt.title('Loss Curves :HAN', fontsize=16)\n",
    "fig1.savefig('loss_han.png')\n",
    "plt.show()"
   ]
  },
  {
   "cell_type": "code",
   "execution_count": 21,
   "metadata": {},
   "outputs": [
    {
     "data": {
      "image/png": "[encoded data removed]",
      "text/plain": [
       "<Figure size 432x288 with 1 Axes>"
      ]
     },
     "metadata": {
      "needs_background": "light"
     },
     "output_type": "display_data"
    }
   ],
   "source": [
    "fig1 = plt.figure()\n",
    "plt.plot(history.history['acc'], 'r', linewidth=3.0)\n",
    "plt.plot(history.history['val_acc'], 'b', linewidth=3.0)\n",
    "plt.legend(['Training Accuracy', 'Validation Accuracy'], fontsize=18)\n",
    "plt.xlabel('Epochs ', fontsize=16)\n",
    "plt.ylabel('Accuracy', fontsize=16)\n",
    "plt.title('Accuracy Curves :HAN', fontsize=16)\n",
    "fig1.savefig('acc_han.png')\n",
    "plt.show()"
   ]
  },
  {
   "cell_type": "code",
   "execution_count": 22,
   "metadata": {
    "_uuid": "1d96ef5cdebbcfb06bf60f1a15efcc3df16e5206"
   },
   "outputs": [],
   "source": [
    "'''\n",
    "A function specific to this competition since the organizers don't want probabilities \n",
    "and only want 0/1 classification maximizing the F1 score. This function computes the best F1 score by looking at val set predictions\n",
    "'''\n",
    "\n",
    "def f1_smart(y_true, y_pred):\n",
    "    thresholds = []\n",
    "    for thresh in np.arange(0.1, 0.501, 0.01):\n",
    "        thresh = np.round(thresh, 2)\n",
    "        res = metrics.f1_score(y_true, (y_pred > thresh).astype(int))\n",
    "        thresholds.append([thresh, res])\n",
    "        print(\"F1 score at threshold {0} is {1}\".format(thresh, res))\n",
    "\n",
    "    thresholds.sort(key=lambda x: x[1], reverse=True)\n",
    "    best_thresh = thresholds[0][0]\n",
    "    best_f1 = thresholds[0][1]\n",
    "    print(\"Best threshold: \", best_thresh)\n",
    "    return  best_f1, best_thresh"
   ]
  },
  {
   "cell_type": "code",
   "execution_count": 23,
   "metadata": {
    "_uuid": "c2bffd9f01cd518a85d9cfe2b18a4249b0627149"
   },
   "outputs": [
    {
     "name": "stdout",
     "output_type": "stream",
     "text": [
      "F1 score at threshold 0.1 is 0.6390102718347427\n",
      "F1 score at threshold 0.11 is 0.646583564173592\n",
      "F1 score at threshold 0.12 is 0.6508494434680727\n",
      "F1 score at threshold 0.13 is 0.6558117423342049\n",
      "F1 score at threshold 0.14 is 0.659609022556391\n",
      "F1 score at threshold 0.15 is 0.6628126331162905\n",
      "F1 score at threshold 0.16 is 0.666913123844732\n",
      "F1 score at threshold 0.17 is 0.6703645995637271\n",
      "F1 score at threshold 0.18 is 0.6730963187090268\n",
      "F1 score at threshold 0.19 is 0.6765136563315718\n",
      "F1 score at threshold 0.2 is 0.6784842646114323\n",
      "F1 score at threshold 0.21 is 0.6802694649566006\n",
      "F1 score at threshold 0.22 is 0.6816993464052288\n",
      "F1 score at threshold 0.23 is 0.6833508956796628\n",
      "F1 score at threshold 0.24 is 0.6838435487084136\n",
      "F1 score at threshold 0.25 is 0.685519454472523\n",
      "F1 score at threshold 0.26 is 0.6850053937432579\n",
      "F1 score at threshold 0.27 is 0.6848217317487267\n",
      "F1 score at threshold 0.28 is 0.6860814875581076\n",
      "F1 score at threshold 0.29 is 0.6860016533480298\n",
      "F1 score at threshold 0.3 is 0.6862104897533867\n",
      "F1 score at threshold 0.31 is 0.688108752014575\n",
      "F1 score at threshold 0.32 is 0.6884829677692361\n",
      "F1 score at threshold 0.33 is 0.688436146802016\n",
      "F1 score at threshold 0.34 is 0.6880537296370391\n",
      "F1 score at threshold 0.35 is 0.6882509533059932\n",
      "F1 score at threshold 0.36 is 0.6889404261487172\n",
      "F1 score at threshold 0.37 is 0.6896350364963504\n",
      "F1 score at threshold 0.38 is 0.6901470588235293\n",
      "F1 score at threshold 0.39 is 0.6885682574916758\n",
      "F1 score at threshold 0.4 is 0.688329110150544\n",
      "F1 score at threshold 0.41 is 0.6883769790650559\n",
      "F1 score at threshold 0.42 is 0.6872166817769719\n",
      "F1 score at threshold 0.43 is 0.685131639019936\n",
      "F1 score at threshold 0.44 is 0.6846584374760408\n",
      "F1 score at threshold 0.45 is 0.6822639178441819\n",
      "F1 score at threshold 0.46 is 0.6816450283759621\n",
      "F1 score at threshold 0.47 is 0.6816122480862365\n",
      "F1 score at threshold 0.48 is 0.6802956439691775\n",
      "F1 score at threshold 0.49 is 0.677915082382763\n",
      "F1 score at threshold 0.5 is 0.675436498445348\n",
      "Best threshold:  0.38\n",
      "Optimal F1: 0.6901470588235293 at threshold: 0.38\n"
     ]
    }
   ],
   "source": [
    "f1, threshold = f1_smart(val_y, pred_val_y)\n",
    "print('Optimal F1: {} at threshold: {}'.format(f1, threshold))"
   ]
  },
  {
   "cell_type": "code",
   "execution_count": 15,
   "metadata": {
    "_uuid": "8a2ebacbb1dee6fe84c01ebf963f74828b7b7c7f"
   },
   "outputs": [],
   "source": [
    "pred_test_y = (pred_test_y >threshold).astype(int)\n",
    "test_df = pd.read_csv(\"../input/test.csv\", usecols=[\"qid\"])\n",
    "out_df = pd.DataFrame({\"qid\":test_df[\"qid\"].values})\n",
    "out_df['prediction'] = pred_test_y\n",
    "out_df.to_csv(\"submission.csv\", index=False)"
   ]
  },
  {
   "cell_type": "markdown",
   "metadata": {
    "_uuid": "2712c79d30027c85017560a76c6f6b237e511e36"
   },
   "source": [
    "References\n",
    "\n",
    "Based on mlwhiz's kernel: https://www.kaggle.com/mlwhiz/learning-text-classification-attention"
   ]
  }
 ],
 "metadata": {
  "kernelspec": {
   "display_name": "general",
   "language": "python",
   "name": "general"
  },
  "language_info": {
   "codemirror_mode": {
    "name": "ipython",
    "version": 3
   },
   "file_extension": ".py",
   "mimetype": "text/x-python",
   "name": "python",
   "nbconvert_exporter": "python",
   "pygments_lexer": "ipython3",
   "version": "3.6.0"
  }
 },
 "nbformat": 4,
 "nbformat_minor": 1
}
