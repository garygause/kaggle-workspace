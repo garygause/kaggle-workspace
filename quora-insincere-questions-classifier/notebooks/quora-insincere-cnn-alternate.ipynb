{
 "cells": [
  {
   "cell_type": "code",
   "execution_count": 1,
   "metadata": {
    "_cell_guid": "79c7e3d0-c299-4dcb-8224-4455121ee9b0",
    "_uuid": "d629ff2d2480ee46fbb7e2d37f6b5fab8052498a"
   },
   "outputs": [],
   "source": [
    "# https://www.kaggle.com/mlwhiz/learning-text-classification-textcnn\n",
    "# Based on text classification tutorial kernel above\n",
    "# Used as baseline for further enhancement"
   ]
  },
  {
   "cell_type": "code",
   "execution_count": 1,
   "metadata": {
    "_uuid": "28e1e71cc4faf944cfeac83d449425dbbf0261a0"
   },
   "outputs": [
    {
     "name": "stderr",
     "output_type": "stream",
     "text": [
      "Using TensorFlow backend.\n"
     ]
    }
   ],
   "source": [
    "# Some imports, we are not gong to use all the imports in this workbook but in subsequent workbooks we surely will.\n",
    "import os\n",
    "import time\n",
    "import numpy as np # linear algebra\n",
    "import pandas as pd # data processing, CSV file I/O (e.g. pd.read_csv)\n",
    "from tqdm import tqdm\n",
    "import math\n",
    "from sklearn.model_selection import train_test_split\n",
    "from sklearn import metrics\n",
    "\n",
    "from keras.preprocessing.text import Tokenizer\n",
    "from keras.preprocessing.sequence import pad_sequences\n",
    "from keras.layers import Dense, Input, CuDNNLSTM, Embedding, Dropout, Activation, CuDNNGRU, Conv1D\n",
    "from keras.layers import Bidirectional, GlobalMaxPool1D, GlobalMaxPooling1D, GlobalAveragePooling1D\n",
    "from keras.layers import Input, Embedding, Dense, Conv2D, MaxPool2D, concatenate\n",
    "from keras.layers import Reshape, Flatten, Concatenate, Dropout, SpatialDropout1D\n",
    "from keras.optimizers import Adam\n",
    "from keras.models import Model\n",
    "from keras import backend as K\n",
    "from keras.engine.topology import Layer\n",
    "from keras import initializers, regularizers, constraints, optimizers, layers\n",
    "\n",
    "\n",
    "from keras.layers import *\n",
    "from keras.models import *\n",
    "from keras import initializers, regularizers, constraints, optimizers, layers\n",
    "from keras.initializers import *\n",
    "from keras.optimizers import *\n",
    "import keras.backend as K\n",
    "from keras.callbacks import *\n",
    "import tensorflow as tf\n",
    "\n",
    "import gc\n",
    "import re\n",
    "import glob\n",
    "\n",
    "import matplotlib.pyplot as plt\n",
    "%matplotlib inline"
   ]
  },
  {
   "cell_type": "code",
   "execution_count": 2,
   "metadata": {
    "_uuid": "08bac6a132c34a10e7e2dcf6a85030aa61a5b04f"
   },
   "outputs": [],
   "source": [
    "# Define some Global Variables\n",
    "max_features = 100000 # Maximum Number of words we want to include in our dictionary\n",
    "maxlen = 72 # No of words in question we want to create a sequence with\n",
    "embed_size = 300# Size of word to vec embedding we are using\n",
    "test_split = 0.08 # since datasize is large"
   ]
  },
  {
   "cell_type": "code",
   "execution_count": 3,
   "metadata": {
    "_uuid": "3853e0950eec43c523993effcfada3290aedc873"
   },
   "outputs": [],
   "source": [
    "# Some preprocesssing that will be common to all the text classification methods you will see. \n",
    "puncts = [',', '.', '\"', ':', ')', '(', '-', '!', '?', '|', ';', \"'\", '$', '&', '/', '[', ']', '>', '%', '=', '#', '*', '+', '\\\\', '•',  '~', '@', '£', \n",
    " '·', '_', '{', '}', '©', '^', '®', '`',  '<', '→', '°', '€', '™', '›',  '♥', '←', '×', '§', '″', '′', 'Â', '█', '½', 'à', '…', \n",
    " '“', '★', '”', '–', '●', 'â', '►', '−', '¢', '²', '¬', '░', '¶', '↑', '±', '¿', '▾', '═', '¦', '║', '―', '¥', '▓', '—', '‹', '─', \n",
    " '▒', '：', '¼', '⊕', '▼', '▪', '†', '■', '’', '▀', '¨', '▄', '♫', '☆', 'é', '¯', '♦', '¤', '▲', 'è', '¸', '¾', 'Ã', '⋅', '‘', '∞', \n",
    " '∙', '）', '↓', '、', '│', '（', '»', '，', '♪', '╩', '╚', '³', '・', '╦', '╣', '╔', '╗', '▬', '❤', 'ï', 'Ø', '¹', '≤', '‡', '√', ]\n",
    "def clean_text(x):\n",
    "    x = str(x)\n",
    "    for punct in puncts:\n",
    "        x = x.replace(punct, f' {punct} ')\n",
    "    return x\n",
    "\n",
    "# Loading the data\n",
    "def load_and_prec():\n",
    "    train_df = pd.read_csv(\"../input/train.csv\")\n",
    "    test_df = pd.read_csv(\"../input/test.csv\")\n",
    "    \n",
    "    print(\"Train shape : \",train_df.shape)\n",
    "    print(\"Test shape : \",test_df.shape)\n",
    "    \n",
    "    train_df[\"question_text\"] = train_df[\"question_text\"].apply(lambda x: clean_text(x))\n",
    "    test_df[\"question_text\"] = test_df[\"question_text\"].apply(lambda x: clean_text(x))\n",
    "    \n",
    "    ## split to train and val\n",
    "    train_df, val_df = train_test_split(train_df, test_size=test_split, random_state=2018) \n",
    "    \n",
    "    ## fill up the missing values\n",
    "    train_X = train_df[\"question_text\"].fillna(\"_##_\").values\n",
    "    val_X = val_df[\"question_text\"].fillna(\"_##_\").values\n",
    "    test_X = test_df[\"question_text\"].fillna(\"_##_\").values\n",
    "\n",
    "    ## Tokenize the sentences\n",
    "    '''\n",
    "    keras.preprocessing.text.Tokenizer tokenizes(splits) the texts into tokens(words).\n",
    "    Signature:\n",
    "    Tokenizer(num_words=None, filters='!\"#$%&()*+,-./:;<=>?@[\\\\]^_`{|}~\\t\\n', \n",
    "    lower=True, split=' ', char_level=False, oov_token=None, document_count=0, **kwargs)\n",
    "\n",
    "    The num_words parameter keeps a prespecified number of words in the text only. \n",
    "    It also filters some non wanted tokens by default and converts the text into lowercase.\n",
    "\n",
    "    It keeps an index of words(dictionary of words which we can use to assign a unique number to a word) \n",
    "    which can be accessed by tokenizer.word_index.\n",
    "    For example - For a text corpus the tokenizer word index might look like. \n",
    "    The words in the indexed dictionary are sort of ranked in order of frequencies,\n",
    "    {'the': 1,'what': 2,'is': 3, 'a': 4, 'to': 5, 'in': 6, 'of': 7, 'i': 8, 'how': 9}\n",
    "    \n",
    "    The texts_to_sequence function converts every word(token) to its respective index in the word_index\n",
    "    \n",
    "    So Lets say we started with \n",
    "    train_X as something like ['This is a sentence','This is another bigger sentence']\n",
    "    and after fitting our tokenizer we get the word_index as {'this':1,'is':2,'sentence':3,'a':4,'another':5,'bigger':6}\n",
    "    The texts_to_sequence function will tokenize the sentences and replace words with individual tokens to give us \n",
    "    train_X = [[1,2,4,3],[1,2,5,6,3]]\n",
    "    '''\n",
    "    tokenizer = Tokenizer(num_words=max_features)\n",
    "    tokenizer.fit_on_texts(list(train_X))\n",
    "    train_X = tokenizer.texts_to_sequences(train_X)\n",
    "    val_X = tokenizer.texts_to_sequences(val_X)\n",
    "    test_X = tokenizer.texts_to_sequences(test_X)\n",
    "\n",
    "    ## Pad the sentences. We need to pad the sequence with 0's to achieve consistent length across examples.\n",
    "    '''\n",
    "    We had train_X = [[1,2,4,3],[1,2,5,6,3]]\n",
    "    lets say maxlen=6\n",
    "        We will then get \n",
    "        train_X = [[1,2,4,3,0,0],[1,2,5,6,3,0]]\n",
    "    '''\n",
    "    train_X = pad_sequences(train_X, maxlen=maxlen)\n",
    "    val_X = pad_sequences(val_X, maxlen=maxlen)\n",
    "    test_X = pad_sequences(test_X, maxlen=maxlen)\n",
    "\n",
    "    ## Get the target values\n",
    "    train_y = train_df['target'].values\n",
    "    val_y = val_df['target'].values  \n",
    "    \n",
    "    #shuffling the data\n",
    "    np.random.seed(2018)\n",
    "    trn_idx = np.random.permutation(len(train_X))\n",
    "    val_idx = np.random.permutation(len(val_X))\n",
    "\n",
    "    train_X = train_X[trn_idx]\n",
    "    val_X = val_X[val_idx]\n",
    "    train_y = train_y[trn_idx]\n",
    "    val_y = val_y[val_idx]    \n",
    "    \n",
    "    return train_X, val_X, test_X, train_y, val_y, tokenizer.word_index"
   ]
  },
  {
   "cell_type": "code",
   "execution_count": 4,
   "metadata": {
    "_uuid": "6397134d73a61d75fbc75b5624d5c24f430cb643"
   },
   "outputs": [
    {
     "name": "stdout",
     "output_type": "stream",
     "text": [
      "Train shape :  (1306122, 3)\n",
      "Test shape :  (56370, 2)\n",
      "CPU times: user 1min 57s, sys: 776 ms, total: 1min 58s\n",
      "Wall time: 1min 59s\n"
     ]
    }
   ],
   "source": [
    "%%time\n",
    "train_X, val_X, test_X, train_y, val_y, word_index = load_and_prec()"
   ]
  },
  {
   "cell_type": "code",
   "execution_count": 5,
   "metadata": {
    "_uuid": "0f916a810d83a537f11e9d0f3eb2fa49333455e4"
   },
   "outputs": [],
   "source": [
    "# Word 2 vec Embedding\n",
    "\n",
    "def load_glove(word_index):\n",
    "    '''We want to create an embedding matrix in which we keep only the word2vec for words which are in our word_index\n",
    "    '''\n",
    "    EMBEDDING_FILE = '../input/embeddings/glove.840B.300d/glove.840B.300d.txt'\n",
    "    def get_coefs(word,*arr): return word, np.asarray(arr, dtype='float32')\n",
    "    embeddings_index = dict(get_coefs(*o.split(\" \")) for o in open(EMBEDDING_FILE))\n",
    "\n",
    "    all_embs = np.stack(embeddings_index.values())\n",
    "    emb_mean,emb_std = -0.005838499,0.48782197\n",
    "    embed_size = all_embs.shape[1]\n",
    "\n",
    "    # word_index = tokenizer.word_index\n",
    "    nb_words = min(max_features, len(word_index))\n",
    "    embedding_matrix = np.random.normal(emb_mean, emb_std, (nb_words, embed_size))\n",
    "    for word, i in word_index.items():\n",
    "        if i >= max_features: continue\n",
    "        embedding_vector = embeddings_index.get(word)\n",
    "        if embedding_vector is not None: embedding_matrix[i] = embedding_vector\n",
    "            \n",
    "    return embedding_matrix "
   ]
  },
  {
   "cell_type": "code",
   "execution_count": 6,
   "metadata": {
    "_uuid": "5fd95b3e8df95518c95097256c1216e675270dce"
   },
   "outputs": [],
   "source": [
    "embedding_matrix = load_glove(word_index)"
   ]
  },
  {
   "cell_type": "code",
   "execution_count": 7,
   "metadata": {
    "_uuid": "f1deac2ede7762e50d7a5f401c27a95a6bb7cac6"
   },
   "outputs": [],
   "source": [
    "# https://www.kaggle.com/yekenot/2dcnn-textclassifier\n",
    "def model_cnn(embedding_matrix):\n",
    "    filter_sizes = [1,2,3,5]\n",
    "    num_filters = 36\n",
    "\n",
    "    inp = Input(shape=(maxlen,))\n",
    "    x = Embedding(max_features, embed_size, weights=[embedding_matrix])(inp)\n",
    "    x = Reshape((maxlen, embed_size, 1))(x)\n",
    "\n",
    "    maxpool_pool = []\n",
    "    for i in range(len(filter_sizes)):\n",
    "        conv = Conv2D(num_filters, kernel_size=(filter_sizes[i], embed_size),\n",
    "                                     kernel_initializer='he_normal', activation='elu')(x)\n",
    "        maxpool_pool.append(MaxPool2D(pool_size=(maxlen - filter_sizes[i] + 1, 1))(conv))\n",
    "\n",
    "    z = Concatenate(axis=1)(maxpool_pool)   \n",
    "    z = Flatten()(z)\n",
    "    z = Dropout(0.1)(z)\n",
    "\n",
    "    outp = Dense(1, activation=\"sigmoid\")(z)\n",
    "\n",
    "    model = Model(inputs=inp, outputs=outp)\n",
    "    model.compile(loss='binary_crossentropy', optimizer='adam', metrics=['accuracy'])\n",
    "    \n",
    "    return model\n"
   ]
  },
  {
   "cell_type": "code",
   "execution_count": 8,
   "metadata": {
    "_uuid": "8d9e3c43a40776b5fc820e87b930a8eb0b05dd7f"
   },
   "outputs": [
    {
     "name": "stdout",
     "output_type": "stream",
     "text": [
      "__________________________________________________________________________________________________\n",
      "Layer (type)                    Output Shape         Param #     Connected to                     \n",
      "==================================================================================================\n",
      "input_1 (InputLayer)            (None, 72)           0                                            \n",
      "__________________________________________________________________________________________________\n",
      "embedding_1 (Embedding)         (None, 72, 300)      30000000    input_1[0][0]                    \n",
      "__________________________________________________________________________________________________\n",
      "reshape_1 (Reshape)             (None, 72, 300, 1)   0           embedding_1[0][0]                \n",
      "__________________________________________________________________________________________________\n",
      "conv2d_1 (Conv2D)               (None, 72, 1, 36)    10836       reshape_1[0][0]                  \n",
      "__________________________________________________________________________________________________\n",
      "conv2d_2 (Conv2D)               (None, 71, 1, 36)    21636       reshape_1[0][0]                  \n",
      "__________________________________________________________________________________________________\n",
      "conv2d_3 (Conv2D)               (None, 70, 1, 36)    32436       reshape_1[0][0]                  \n",
      "__________________________________________________________________________________________________\n",
      "conv2d_4 (Conv2D)               (None, 68, 1, 36)    54036       reshape_1[0][0]                  \n",
      "__________________________________________________________________________________________________\n",
      "max_pooling2d_1 (MaxPooling2D)  (None, 1, 1, 36)     0           conv2d_1[0][0]                   \n",
      "__________________________________________________________________________________________________\n",
      "max_pooling2d_2 (MaxPooling2D)  (None, 1, 1, 36)     0           conv2d_2[0][0]                   \n",
      "__________________________________________________________________________________________________\n",
      "max_pooling2d_3 (MaxPooling2D)  (None, 1, 1, 36)     0           conv2d_3[0][0]                   \n",
      "__________________________________________________________________________________________________\n",
      "max_pooling2d_4 (MaxPooling2D)  (None, 1, 1, 36)     0           conv2d_4[0][0]                   \n",
      "__________________________________________________________________________________________________\n",
      "concatenate_1 (Concatenate)     (None, 4, 1, 36)     0           max_pooling2d_1[0][0]            \n",
      "                                                                 max_pooling2d_2[0][0]            \n",
      "                                                                 max_pooling2d_3[0][0]            \n",
      "                                                                 max_pooling2d_4[0][0]            \n",
      "__________________________________________________________________________________________________\n",
      "flatten_1 (Flatten)             (None, 144)          0           concatenate_1[0][0]              \n",
      "__________________________________________________________________________________________________\n",
      "dropout_1 (Dropout)             (None, 144)          0           flatten_1[0][0]                  \n",
      "__________________________________________________________________________________________________\n",
      "dense_1 (Dense)                 (None, 1)            145         dropout_1[0][0]                  \n",
      "==================================================================================================\n",
      "Total params: 30,119,089\n",
      "Trainable params: 30,119,089\n",
      "Non-trainable params: 0\n",
      "__________________________________________________________________________________________________\n"
     ]
    }
   ],
   "source": [
    "model = model_cnn(embedding_matrix)\n",
    "model.summary()"
   ]
  },
  {
   "cell_type": "code",
   "execution_count": 20,
   "metadata": {
    "_uuid": "12cc76396003445892a5b606c059d4ee2c2f4ac5"
   },
   "outputs": [],
   "source": [
    "def train_pred(model, epochs=2):\n",
    "    filepath=\"cnn_weights_best.h5\"\n",
    "    checkpoint = ModelCheckpoint(filepath, monitor='val_loss', verbose=2, save_best_only=True, mode='min')\n",
    "    callbacks = [checkpoint]\n",
    "    history = model.fit(train_X, train_y, batch_size=512, epochs=epochs, validation_data=(val_X, val_y),callbacks=callbacks)\n",
    "    model.load_weights(filepath)\n",
    "    pred_val_y = model.predict([val_X], batch_size=1024, verbose=0)\n",
    "    pred_test_y = model.predict([test_X], batch_size=1024, verbose=0)\n",
    "    return pred_val_y, pred_test_y, history"
   ]
  },
  {
   "cell_type": "code",
   "execution_count": 21,
   "metadata": {
    "_uuid": "47455502d90e82d3228b444c847eb8559e452452"
   },
   "outputs": [
    {
     "name": "stdout",
     "output_type": "stream",
     "text": [
      "Train on 1201632 samples, validate on 104490 samples\n",
      "Epoch 1/8\n",
      "1201632/1201632 [==============================] - 234s 195us/step - loss: 0.0847 - acc: 0.9666 - val_loss: 0.1086 - val_acc: 0.9582\n",
      "\n",
      "Epoch 00001: val_loss improved from inf to 0.10855, saving model to cnn_weights_best.h5\n",
      "Epoch 2/8\n",
      "1201632/1201632 [==============================] - 235s 196us/step - loss: 0.0703 - acc: 0.9728 - val_loss: 0.1193 - val_acc: 0.9566\n",
      "\n",
      "Epoch 00002: val_loss did not improve from 0.10855\n",
      "Epoch 3/8\n",
      "1201632/1201632 [==============================] - 234s 195us/step - loss: 0.0550 - acc: 0.9793 - val_loss: 0.1314 - val_acc: 0.9550\n",
      "\n",
      "Epoch 00003: val_loss did not improve from 0.10855\n",
      "Epoch 4/8\n",
      "1201632/1201632 [==============================] - 234s 195us/step - loss: 0.0422 - acc: 0.9845 - val_loss: 0.1517 - val_acc: 0.9537\n",
      "\n",
      "Epoch 00004: val_loss did not improve from 0.10855\n",
      "Epoch 5/8\n",
      "1201632/1201632 [==============================] - 234s 195us/step - loss: 0.0328 - acc: 0.9880 - val_loss: 0.1798 - val_acc: 0.9532\n",
      "\n",
      "Epoch 00005: val_loss did not improve from 0.10855\n",
      "Epoch 6/8\n",
      "1201632/1201632 [==============================] - 235s 195us/step - loss: 0.0261 - acc: 0.9906 - val_loss: 0.1954 - val_acc: 0.9517\n",
      "\n",
      "Epoch 00006: val_loss did not improve from 0.10855\n",
      "Epoch 7/8\n",
      "1201632/1201632 [==============================] - 235s 195us/step - loss: 0.0214 - acc: 0.9923 - val_loss: 0.2097 - val_acc: 0.9512\n",
      "\n",
      "Epoch 00007: val_loss did not improve from 0.10855\n",
      "Epoch 8/8\n",
      "1201632/1201632 [==============================] - 235s 196us/step - loss: 0.0184 - acc: 0.9935 - val_loss: 0.2369 - val_acc: 0.9521\n",
      "\n",
      "Epoch 00008: val_loss did not improve from 0.10855\n",
      "CPU times: user 18min 13s, sys: 6min 14s, total: 24min 28s\n",
      "Wall time: 31min 26s\n"
     ]
    }
   ],
   "source": [
    "%%time\n",
    "pred_val_y, pred_test_y, history = train_pred(model, epochs=8)"
   ]
  },
  {
   "cell_type": "code",
   "execution_count": 22,
   "metadata": {},
   "outputs": [
    {
     "data": {
      "image/png": "[encoded data removed]",
      "text/plain": [
       "<Figure size 432x288 with 1 Axes>"
      ]
     },
     "metadata": {
      "needs_background": "light"
     },
     "output_type": "display_data"
    }
   ],
   "source": [
    "fig1 = plt.figure()\n",
    "plt.plot(history.history['loss'], 'r', linewidth=3.0)\n",
    "plt.plot(history.history['val_loss'], 'b', linewidth=3.0)\n",
    "plt.legend(['Training loss', 'Validation loss'], fontsize=18)\n",
    "plt.xlabel('Epochs ', fontsize=16)\n",
    "plt.ylabel('Loss', fontsize=16)\n",
    "plt.title('Loss Curves :CNN', fontsize=16)\n",
    "fig1.savefig('loss_cnn.png')\n",
    "plt.show()"
   ]
  },
  {
   "cell_type": "code",
   "execution_count": 23,
   "metadata": {},
   "outputs": [
    {
     "data": {
      "image/png": "[encoded data removed]",
      "text/plain": [
       "<Figure size 432x288 with 1 Axes>"
      ]
     },
     "metadata": {
      "needs_background": "light"
     },
     "output_type": "display_data"
    }
   ],
   "source": [
    "fig1 = plt.figure()\n",
    "plt.plot(history.history['acc'], 'r', linewidth=3.0)\n",
    "plt.plot(history.history['val_acc'], 'b', linewidth=3.0)\n",
    "plt.legend(['Training Accuracy', 'Validation Accuracy'], fontsize=18)\n",
    "plt.xlabel('Epochs ', fontsize=16)\n",
    "plt.ylabel('Accuracy', fontsize=16)\n",
    "plt.title('Accuracy Curves :CNN', fontsize=16)\n",
    "fig1.savefig('acc_cnn.png')\n",
    "plt.show()"
   ]
  },
  {
   "cell_type": "code",
   "execution_count": 24,
   "metadata": {
    "_uuid": "1d96ef5cdebbcfb06bf60f1a15efcc3df16e5206"
   },
   "outputs": [],
   "source": [
    "'''\n",
    "A function specific to this competition since the organizers don't want probabilities \n",
    "and only want 0/1 classification maximizing the F1 score. This function computes the best F1 score by looking at val set predictions\n",
    "'''\n",
    "\n",
    "def f1_smart(y_true, y_pred):\n",
    "    thresholds = []\n",
    "    for thresh in np.arange(0.1, 0.501, 0.01):\n",
    "        thresh = np.round(thresh, 2)\n",
    "        res = metrics.f1_score(y_true, (y_pred > thresh).astype(int))\n",
    "        thresholds.append([thresh, res])\n",
    "        print(\"F1 score at threshold {0} is {1}\".format(thresh, res))\n",
    "\n",
    "    thresholds.sort(key=lambda x: x[1], reverse=True)\n",
    "    best_thresh = thresholds[0][0]\n",
    "    best_f1 = thresholds[0][1]\n",
    "    print(\"Best threshold: \", best_thresh)\n",
    "    return  best_f1, best_thresh"
   ]
  },
  {
   "cell_type": "code",
   "execution_count": 25,
   "metadata": {
    "_uuid": "c2bffd9f01cd518a85d9cfe2b18a4249b0627149"
   },
   "outputs": [
    {
     "data": {
      "text/plain": [
       "array([[1.7467902e-04],\n",
       "       [3.9537203e-02],\n",
       "       [8.6469203e-02],\n",
       "       ...,\n",
       "       [1.3314816e-03],\n",
       "       [9.5262706e-01],\n",
       "       [6.6454482e-04]], dtype=float32)"
      ]
     },
     "execution_count": 25,
     "metadata": {},
     "output_type": "execute_result"
    }
   ],
   "source": [
    "pred_val_y"
   ]
  },
  {
   "cell_type": "code",
   "execution_count": 26,
   "metadata": {
    "_uuid": "d675e0d66b611d013c899815285b88e0449b9dbb"
   },
   "outputs": [
    {
     "data": {
      "text/plain": [
       "array([0, 0, 0, ..., 0, 0, 0])"
      ]
     },
     "execution_count": 26,
     "metadata": {},
     "output_type": "execute_result"
    }
   ],
   "source": [
    "val_y"
   ]
  },
  {
   "cell_type": "code",
   "execution_count": 27,
   "metadata": {
    "_uuid": "7d5d8510b74d485325a3f4ac65bfe63c53a33121"
   },
   "outputs": [
    {
     "name": "stdout",
     "output_type": "stream",
     "text": [
      "F1 score at threshold 0.1 is 0.6052124083971568\n",
      "F1 score at threshold 0.11 is 0.6132219273979563\n",
      "F1 score at threshold 0.12 is 0.6196760993602674\n",
      "F1 score at threshold 0.13 is 0.6277277807187812\n",
      "F1 score at threshold 0.14 is 0.6326824008625853\n",
      "F1 score at threshold 0.15 is 0.6368844466114091\n",
      "F1 score at threshold 0.16 is 0.6414275977445938\n",
      "F1 score at threshold 0.17 is 0.6455306032584764\n",
      "F1 score at threshold 0.18 is 0.6491172158837402\n",
      "F1 score at threshold 0.19 is 0.6527921406411583\n",
      "F1 score at threshold 0.2 is 0.6541358307682231\n",
      "F1 score at threshold 0.21 is 0.6556093677436476\n",
      "F1 score at threshold 0.22 is 0.657626208378088\n",
      "F1 score at threshold 0.23 is 0.660361954007348\n",
      "F1 score at threshold 0.24 is 0.6607069178929996\n",
      "F1 score at threshold 0.25 is 0.661668749132306\n",
      "F1 score at threshold 0.26 is 0.662038011080721\n",
      "F1 score at threshold 0.27 is 0.6611874734306362\n",
      "F1 score at threshold 0.28 is 0.6608919750876942\n",
      "F1 score at threshold 0.29 is 0.6602012014185424\n",
      "F1 score at threshold 0.3 is 0.659890310786106\n",
      "F1 score at threshold 0.31 is 0.6591848789131719\n",
      "F1 score at threshold 0.32 is 0.658012533572068\n",
      "F1 score at threshold 0.33 is 0.6572911182973603\n",
      "F1 score at threshold 0.34 is 0.6561883067577828\n",
      "F1 score at threshold 0.35 is 0.6557101360648219\n",
      "F1 score at threshold 0.36 is 0.6543714792808087\n",
      "F1 score at threshold 0.37 is 0.6509345794392524\n",
      "F1 score at threshold 0.38 is 0.6495954756107141\n",
      "F1 score at threshold 0.39 is 0.6482082113756823\n",
      "F1 score at threshold 0.4 is 0.6464017871389819\n",
      "F1 score at threshold 0.41 is 0.6440296105568072\n",
      "F1 score at threshold 0.42 is 0.6411630929174789\n",
      "F1 score at threshold 0.43 is 0.639770867430442\n",
      "F1 score at threshold 0.44 is 0.6370309278350516\n",
      "F1 score at threshold 0.45 is 0.6342557965594615\n",
      "F1 score at threshold 0.46 is 0.6318791946308725\n",
      "F1 score at threshold 0.47 is 0.6310720621779168\n",
      "F1 score at threshold 0.48 is 0.6292574931880109\n",
      "F1 score at threshold 0.49 is 0.6257510729613734\n",
      "F1 score at threshold 0.5 is 0.6220608575380359\n",
      "Best threshold:  0.26\n",
      "Optimal F1: 0.662038011080721 at threshold: 0.26\n"
     ]
    }
   ],
   "source": [
    "f1, threshold = f1_smart(val_y, pred_val_y)\n",
    "print('Optimal F1: {} at threshold: {}'.format(f1, threshold))"
   ]
  },
  {
   "cell_type": "code",
   "execution_count": 17,
   "metadata": {
    "_uuid": "8a2ebacbb1dee6fe84c01ebf963f74828b7b7c7f"
   },
   "outputs": [],
   "source": [
    "pred_test_y = (pred_test_y >threshold).astype(int)\n",
    "test_df = pd.read_csv(\"../input/test.csv\", usecols=[\"qid\"])\n",
    "out_df = pd.DataFrame({\"qid\":test_df[\"qid\"].values})\n",
    "out_df['prediction'] = pred_test_y\n",
    "out_df.to_csv(\"submission.csv\", index=False)"
   ]
  },
  {
   "cell_type": "markdown",
   "metadata": {
    "_uuid": "2712c79d30027c85017560a76c6f6b237e511e36"
   },
   "source": [
    "References\n",
    "\n",
    "Based on mlwhiz's kernel: https://www.kaggle.com/mlwhiz/learning-text-classification-textcnn"
   ]
  }
 ],
 "metadata": {
  "kernelspec": {
   "display_name": "general",
   "language": "python",
   "name": "general"
  },
  "language_info": {
   "codemirror_mode": {
    "name": "ipython",
    "version": 3
   },
   "file_extension": ".py",
   "mimetype": "text/x-python",
   "name": "python",
   "nbconvert_exporter": "python",
   "pygments_lexer": "ipython3",
   "version": "3.6.0"
  }
 },
 "nbformat": 4,
 "nbformat_minor": 1
}
