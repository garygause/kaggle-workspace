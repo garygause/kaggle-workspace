{
 "cells": [
  {
   "cell_type": "markdown",
   "metadata": {
    "_cell_guid": "e81ee64d-e474-4662-9036-ce23df615199",
    "_uuid": "b6269c0e8f417f82daf093dda8fa0da6d2c57d86"
   },
   "source": [
    "# Introduction\n",
    "**This will be your workspace for the [Machine Learning course](https://www.kaggle.com/learn/machine-learning).**\n",
    "\n",
    "You will need to translate the concepts to work with the data in this notebook, the Iowa data. Each page in the Machine Learning course includes instructions for what code to write at that step in the course.\n",
    "\n",
    "# Write Your Code Below"
   ]
  },
  {
   "cell_type": "code",
   "execution_count": 2,
   "metadata": {
    "_cell_guid": "86b26423-563a-4fa1-a595-89e25ff93089",
    "_uuid": "1c728098629e1301643443b1341556a15c089b2b"
   },
   "outputs": [
    {
     "name": "stdout",
     "output_type": "stream",
     "text": [
      "Max leaf nodes: 5  \t\t Mean Absolute Error:  37342\n",
      "Max leaf nodes: 50  \t\t Mean Absolute Error:  33214\n",
      "Max leaf nodes: 500  \t\t Mean Absolute Error:  38475\n",
      "Max leaf nodes: 5000  \t\t Mean Absolute Error:  39206\n",
      "RandomForest MAE:  29024.5357260274\n"
     ]
    },
    {
     "name": "stderr",
     "output_type": "stream",
     "text": [
      "/home/dev/.local/lib/python3.5/site-packages/sklearn/ensemble/forest.py:246: FutureWarning: The default value of n_estimators will change from 10 in version 0.20 to 100 in 0.22.\n",
      "  \"10 in version 0.20 to 100 in 0.22.\", FutureWarning)\n"
     ]
    }
   ],
   "source": [
    "import pandas as pd\n",
    "from sklearn.tree import DecisionTreeRegressor\n",
    "from sklearn.metrics import mean_absolute_error\n",
    "from sklearn.model_selection import train_test_split\n",
    "from sklearn.ensemble import RandomForestRegressor\n",
    "\n",
    "\n",
    "def get_mae(max_leaf_nodes, train_X, val_X, train_y, val_y):\n",
    "    model = DecisionTreeRegressor(max_leaf_nodes=max_leaf_nodes, random_state=0)\n",
    "    model.fit(train_X, train_y)\n",
    "    preds_val = model.predict(val_X)\n",
    "    mae = mean_absolute_error(val_y, preds_val)\n",
    "    return(mae)\n",
    "\n",
    "main_file_path = '../input/train.csv' # this is the path to the Iowa data that you will use\n",
    "data = pd.read_csv(main_file_path)\n",
    "\n",
    "# Run this code block with the control-enter keys on your keyboard. Or click the blue botton on the left\n",
    "y = data.SalePrice\n",
    "features = ['LotArea', 'YearBuilt', 'Fireplaces','FullBath','HalfBath','TotRmsAbvGrd']\n",
    "X = data[features]\n",
    "\n",
    "train_X, val_X, train_y, val_y = train_test_split(X, y, random_state = 0)\n",
    "\n",
    "# compare MAE with differing values of max_leaf_nodes\n",
    "for max_leaf_nodes in [5, 50, 500, 5000]:\n",
    "    my_mae = get_mae(max_leaf_nodes, train_X, val_X, train_y, val_y)\n",
    "    print(\"Max leaf nodes: %d  \\t\\t Mean Absolute Error:  %d\" %(max_leaf_nodes, my_mae))\n",
    "    \n",
    "\n",
    "#data_model = DecisionTreeRegressor(random_state=1)\n",
    "#data_model.fit(train_X, train_y)\n",
    "\n",
    "#predictions = data_model.predict(val_X)\n",
    "\n",
    "#print(\"MAE: \")\n",
    "#print(mean_absolute_error(val_y, predictions))\n",
    "\n",
    "# random forest version\n",
    "forest_model = RandomForestRegressor(random_state=1)\n",
    "forest_model.fit(train_X, train_y)\n",
    "data_preds = forest_model.predict(val_X)\n",
    "print(\"RandomForest MAE: \", mean_absolute_error(val_y, data_preds))\n"
   ]
  },
  {
   "cell_type": "markdown",
   "metadata": {
    "_cell_guid": "06a2e301-f224-40d0-8709-a942b24cd124",
    "_uuid": "64fde43ae8511da761549c42f24eccb5d1039271"
   },
   "source": [
    "\n",
    "**If you have any questions or hit any problems, come to the [Learn Discussion](https://www.kaggle.com/learn-forum) for help. **\n",
    "\n",
    "**Return to [ML Course Index](https://www.kaggle.com/learn/machine-learning)**"
   ]
  },
  {
   "cell_type": "markdown",
   "metadata": {
    "_cell_guid": "895df7f1-dab8-4c54-ab7e-9a865146deac",
    "_uuid": "704e07440d7d4ef7ad3cf25c0a966c000bb8eeef"
   },
   "source": []
  }
 ],
 "metadata": {
  "kernelspec": {
   "display_name": "Python 3",
   "language": "python",
   "name": "python3"
  },
  "language_info": {
   "codemirror_mode": {
    "name": "ipython",
    "version": 3
   },
   "file_extension": ".py",
   "mimetype": "text/x-python",
   "name": "python",
   "nbconvert_exporter": "python",
   "pygments_lexer": "ipython3",
   "version": "3.5.2"
  }
 },
 "nbformat": 4,
 "nbformat_minor": 1
}
